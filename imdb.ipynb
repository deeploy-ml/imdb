{
 "cells": [
  {
   "cell_type": "code",
   "execution_count": 1,
   "metadata": {
    "tags": []
   },
   "outputs": [],
   "source": [
    "import tensorflow as tf\n"
   ]
  },
  {
   "cell_type": "code",
   "execution_count": 2,
   "metadata": {
    "tags": []
   },
   "outputs": [
    {
     "output_type": "stream",
     "name": "stdout",
     "text": "TensorFlow version: 2.2.0\n"
    }
   ],
   "source": [
    "print('TensorFlow version: {}'.format(tf.__version__))"
   ]
  },
  {
   "cell_type": "code",
   "execution_count": 3,
   "metadata": {},
   "outputs": [
    {
     "output_type": "execute_result",
     "data": {
      "text/plain": "[]"
     },
     "metadata": {},
     "execution_count": 3
    }
   ],
   "source": [
    "tf.config.list_physical_devices('GPU')"
   ]
  },
  {
   "cell_type": "code",
   "execution_count": 4,
   "metadata": {
    "tags": []
   },
   "outputs": [],
   "source": [
    "from __future__ import print_function"
   ]
  },
  {
   "cell_type": "code",
   "execution_count": 5,
   "metadata": {},
   "outputs": [],
   "source": [
    "from tensorflow.keras.preprocessing import sequence\n",
    "from tensorflow.keras.models import Sequential\n",
    "from tensorflow.keras.layers import Dense, Dropout, Activation\n",
    "from tensorflow.keras.layers import Embedding\n",
    "from tensorflow.keras.layers import Conv1D, GlobalMaxPooling1D\n",
    "from tensorflow.keras.datasets import imdb"
   ]
  },
  {
   "cell_type": "code",
   "execution_count": 6,
   "metadata": {},
   "outputs": [],
   "source": [
    "# set parameters:\n",
    "max_features = 5000\n",
    "maxlen = 400\n",
    "batch_size = 32\n",
    "embedding_dims = 50\n",
    "filters = 250\n",
    "kernel_size = 3\n",
    "hidden_dims = 250\n",
    "epochs = 2"
   ]
  },
  {
   "cell_type": "code",
   "execution_count": 15,
   "metadata": {},
   "outputs": [],
   "source": [
    "export_dir = os.path.join(os.getcwd(), 'model/1')"
   ]
  },
  {
   "cell_type": "code",
   "execution_count": 16,
   "metadata": {},
   "outputs": [
    {
     "output_type": "execute_result",
     "data": {
      "text/plain": "'/Users/tkleinloog/Desktop/imdb/model/1'"
     },
     "metadata": {},
     "execution_count": 16
    }
   ],
   "source": [
    "export_dir"
   ]
  },
  {
   "cell_type": "code",
   "execution_count": 8,
   "metadata": {
    "tags": []
   },
   "outputs": [
    {
     "output_type": "stream",
     "name": "stdout",
     "text": "Loading data...\n25000 train sequences\n25000 test sequences\n"
    }
   ],
   "source": [
    "print('Loading data...')\n",
    "(x_train, y_train), (x_test, y_test) = imdb.load_data(num_words=max_features)\n",
    "print(len(x_train), 'train sequences')\n",
    "print(len(x_test), 'test sequences')"
   ]
  },
  {
   "cell_type": "code",
   "execution_count": 9,
   "metadata": {
    "tags": []
   },
   "outputs": [
    {
     "output_type": "stream",
     "name": "stdout",
     "text": "Pad sequences (samples x time)\nx_train shape: (25000, 400)\nx_test shape: (25000, 400)\n"
    }
   ],
   "source": [
    "print('Pad sequences (samples x time)')\n",
    "x_train = sequence.pad_sequences(x_train, maxlen=maxlen)\n",
    "x_test = sequence.pad_sequences(x_test, maxlen=maxlen)\n",
    "print('x_train shape:', x_train.shape)\n",
    "print('x_test shape:', x_test.shape)"
   ]
  },
  {
   "cell_type": "code",
   "execution_count": 10,
   "metadata": {
    "tags": []
   },
   "outputs": [
    {
     "output_type": "stream",
     "name": "stdout",
     "text": "Build model...\n"
    }
   ],
   "source": [
    "print('Build model...')\n",
    "model = Sequential()"
   ]
  },
  {
   "cell_type": "code",
   "execution_count": 11,
   "metadata": {
    "tags": []
   },
   "outputs": [
    {
     "output_type": "stream",
     "name": "stdout",
     "text": "Epoch 1/2\n782/782 [==============================] - 32s 41ms/step - loss: 0.4109 - accuracy: 0.7959 - val_loss: 0.2815 - val_accuracy: 0.8814\nEpoch 2/2\n782/782 [==============================] - 33s 42ms/step - loss: 0.2367 - accuracy: 0.9041 - val_loss: 0.2806 - val_accuracy: 0.8810\n"
    },
    {
     "output_type": "execute_result",
     "data": {
      "text/plain": "<tensorflow.python.keras.callbacks.History at 0x14da0c2d0>"
     },
     "metadata": {},
     "execution_count": 11
    }
   ],
   "source": [
    "# we start off with an efficient embedding layer which maps\n",
    "# our vocab indices into embedding_dims dimensions\n",
    "model.add(Embedding(max_features,\n",
    "                    embedding_dims,\n",
    "                    input_length=maxlen))\n",
    "model.add(Dropout(0.2))\n",
    "\n",
    "# we add a Convolution1D, which will learn filters\n",
    "# word group filters of size filter_length:\n",
    "model.add(Conv1D(filters,\n",
    "                 kernel_size,\n",
    "                 padding='valid',\n",
    "                 activation='relu',\n",
    "                 strides=1))\n",
    "# we use max pooling:\n",
    "model.add(GlobalMaxPooling1D())\n",
    "\n",
    "# We add a vanilla hidden layer:\n",
    "model.add(Dense(hidden_dims))\n",
    "model.add(Dropout(0.2))\n",
    "model.add(Activation('relu'))\n",
    "\n",
    "# We project onto a single unit output layer, and squash it with a sigmoid:\n",
    "model.add(Dense(1))\n",
    "model.add(Activation('sigmoid'))\n",
    "\n",
    "model.compile(loss='binary_crossentropy',\n",
    "              optimizer='adam',\n",
    "              metrics=['accuracy'])\n",
    "model.fit(x_train, y_train,\n",
    "          batch_size=batch_size,\n",
    "          epochs=epochs,\n",
    "          validation_data=(x_test, y_test))"
   ]
  },
  {
   "cell_type": "code",
   "execution_count": 17,
   "metadata": {
    "tags": []
   },
   "outputs": [
    {
     "output_type": "stream",
     "name": "stdout",
     "text": "export_path = /Users/tkleinloog/Desktop/imdb/model/1\n\n"
    }
   ],
   "source": [
    "export_path = os.path.join(os.getcwd(), 'model/1')\n",
    "print('export_path = {}\\n'.format(export_path))"
   ]
  },
  {
   "cell_type": "code",
   "execution_count": 18,
   "metadata": {
    "tags": []
   },
   "outputs": [
    {
     "output_type": "stream",
     "name": "stdout",
     "text": "INFO:tensorflow:Assets written to: /Users/tkleinloog/Desktop/imdb/model/1/assets\n\nSaved model:\ntotal 296\ndrwxr-xr-x  2 tkleinloog  staff      64 Jun 25 17:32 \u001b[1m\u001b[36massets\u001b[m\u001b[m\n-rw-r--r--  1 tkleinloog  staff  148528 Jun 25 17:32 saved_model.pb\ndrwxr-xr-x  4 tkleinloog  staff     128 Jun 25 17:32 \u001b[1m\u001b[36mvariables\u001b[m\u001b[m\n"
    }
   ],
   "source": [
    "tf.keras.models.save_model(\n",
    "    model,\n",
    "    export_path,\n",
    "    overwrite=True,\n",
    "    include_optimizer=True,\n",
    "    save_format=None,\n",
    "    signatures=None,\n",
    "    options=None\n",
    ")\n",
    "\n",
    "print('\\nSaved model:')\n",
    "!ls -l {export_path}"
   ]
  },
  {
   "cell_type": "code",
   "execution_count": 14,
   "metadata": {},
   "outputs": [
    {
     "output_type": "error",
     "ename": "NameError",
     "evalue": "name 'save_dir' is not defined",
     "traceback": [
      "\u001b[0;31m---------------------------------------------------------------------------\u001b[0m",
      "\u001b[0;31mNameError\u001b[0m                                 Traceback (most recent call last)",
      "\u001b[0;32m<ipython-input-14-fbeef24e5dee>\u001b[0m in \u001b[0;36m<module>\u001b[0;34m\u001b[0m\n\u001b[1;32m      1\u001b[0m \u001b[0;31m# Save model and weights\u001b[0m\u001b[0;34m\u001b[0m\u001b[0;34m\u001b[0m\u001b[0;34m\u001b[0m\u001b[0m\n\u001b[0;32m----> 2\u001b[0;31m \u001b[0;32mif\u001b[0m \u001b[0;32mnot\u001b[0m \u001b[0mos\u001b[0m\u001b[0;34m.\u001b[0m\u001b[0mpath\u001b[0m\u001b[0;34m.\u001b[0m\u001b[0misdir\u001b[0m\u001b[0;34m(\u001b[0m\u001b[0msave_dir\u001b[0m\u001b[0;34m)\u001b[0m\u001b[0;34m:\u001b[0m\u001b[0;34m\u001b[0m\u001b[0;34m\u001b[0m\u001b[0m\n\u001b[0m\u001b[1;32m      3\u001b[0m     \u001b[0mos\u001b[0m\u001b[0;34m.\u001b[0m\u001b[0mmakedirs\u001b[0m\u001b[0;34m(\u001b[0m\u001b[0msave_dir\u001b[0m\u001b[0;34m)\u001b[0m\u001b[0;34m\u001b[0m\u001b[0;34m\u001b[0m\u001b[0m\n\u001b[1;32m      4\u001b[0m \u001b[0mmodel_path\u001b[0m \u001b[0;34m=\u001b[0m \u001b[0mos\u001b[0m\u001b[0;34m.\u001b[0m\u001b[0mpath\u001b[0m\u001b[0;34m.\u001b[0m\u001b[0mjoin\u001b[0m\u001b[0;34m(\u001b[0m\u001b[0msave_dir\u001b[0m\u001b[0;34m,\u001b[0m \u001b[0mmodel_name\u001b[0m\u001b[0;34m)\u001b[0m\u001b[0;34m\u001b[0m\u001b[0;34m\u001b[0m\u001b[0m\n\u001b[1;32m      5\u001b[0m \u001b[0mmodel\u001b[0m\u001b[0;34m.\u001b[0m\u001b[0msave\u001b[0m\u001b[0;34m(\u001b[0m\u001b[0mmodel_path\u001b[0m\u001b[0;34m)\u001b[0m\u001b[0;34m\u001b[0m\u001b[0;34m\u001b[0m\u001b[0m\n",
      "\u001b[0;31mNameError\u001b[0m: name 'save_dir' is not defined"
     ]
    }
   ],
   "source": [
    "# Save model and weights\n",
    "if not os.path.isdir(save_dir):\n",
    "    os.makedirs(save_dir)\n",
    "model_path = os.path.join(save_dir, model_name)\n",
    "model.save(model_path)\n",
    "print('Saved trained model at %s ' % model_path)"
   ]
  },
  {
   "cell_type": "code",
   "execution_count": 18,
   "metadata": {},
   "outputs": [
    {
     "output_type": "stream",
     "name": "stdout",
     "text": "782/782 [==============================] - 6s 7ms/step - loss: 0.2765 - accuracy: 0.8842\nTest loss: 0.27645236253738403\nTest accuracy: 0.8841599822044373\n"
    }
   ],
   "source": [
    "# Score trained model.\n",
    "scores = model.evaluate(x_test, y_test, verbose=1)\n",
    "print('Test loss:', scores[0])\n",
    "print('Test accuracy:', scores[1])"
   ]
  },
  {
   "cell_type": "code",
   "execution_count": 19,
   "metadata": {},
   "outputs": [
    {
     "output_type": "execute_result",
     "data": {
      "text/plain": "[0.27645236253738403, 0.8841599822044373]"
     },
     "metadata": {},
     "execution_count": 19
    }
   ],
   "source": [
    "scores"
   ]
  },
  {
   "cell_type": "code",
   "execution_count": 29,
   "metadata": {},
   "outputs": [],
   "source": [
    "example_input = {\n",
    "    \"instances\": [x_test[12].tolist()]\n",
    "}"
   ]
  },
  {
   "cell_type": "code",
   "execution_count": 30,
   "metadata": {},
   "outputs": [
    {
     "output_type": "execute_result",
     "data": {
      "text/plain": "(400,)"
     },
     "metadata": {},
     "execution_count": 30
    }
   ],
   "source": [
    "x_test[0].shape"
   ]
  },
  {
   "cell_type": "code",
   "execution_count": 31,
   "metadata": {},
   "outputs": [],
   "source": [
    "import json"
   ]
  },
  {
   "cell_type": "code",
   "execution_count": 32,
   "metadata": {},
   "outputs": [
    {
     "output_type": "execute_result",
     "data": {
      "text/plain": "{'instances': [[0,\n   0,\n   1,\n   449,\n   3214,\n   449,\n   3214,\n   12,\n   66,\n   214,\n   23,\n   61,\n   2,\n   54,\n   6,\n   364,\n   352,\n   1149,\n   189,\n   1586,\n   497,\n   8,\n   168,\n   221,\n   11,\n   4,\n   898,\n   34,\n   260,\n   6,\n   762,\n   7,\n   52,\n   1433,\n   1719,\n   56,\n   11,\n   4,\n   177,\n   64,\n   8,\n   4337,\n   257,\n   31,\n   11,\n   4,\n   2,\n   91,\n   1149,\n   614,\n   555,\n   11,\n   14,\n   22,\n   75,\n   28,\n   745,\n   2219,\n   11,\n   31,\n   136,\n   6,\n   2,\n   1267,\n   39,\n   1593,\n   2,\n   6,\n   1420,\n   1466,\n   18,\n   2,\n   2443,\n   1076,\n   53,\n   58,\n   23,\n   268,\n   18,\n   308,\n   3060,\n   1164,\n   5,\n   6,\n   117,\n   58,\n   18,\n   4115,\n   328,\n   14,\n   762,\n   7,\n   1526,\n   3201,\n   127,\n   24,\n   66,\n   763,\n   56,\n   8,\n   76,\n   151,\n   745,\n   2219,\n   5,\n   4115,\n   328,\n   81,\n   2988,\n   49,\n   7,\n   4,\n   171,\n   2,\n   7,\n   14,\n   22,\n   19,\n   68,\n   3329,\n   5,\n   94,\n   179,\n   1350,\n   66,\n   17,\n   600,\n   7,\n   4,\n   293,\n   177,\n   26,\n   76,\n   52,\n   33,\n   32,\n   13,\n   426,\n   339,\n   21,\n   104,\n   15,\n   48,\n   53,\n   139,\n   71,\n   814,\n   19,\n   101,\n   7,\n   4,\n   503,\n   20,\n   2,\n   752,\n   4,\n   22,\n   62,\n   30,\n   6,\n   226,\n   176,\n   128,\n   21,\n   17,\n   12,\n   9,\n   50,\n   26,\n   43,\n   6,\n   171,\n   2,\n   2,\n   7,\n   52,\n   722,\n   209,\n   4,\n   22,\n   126,\n   165,\n   2,\n   76,\n   722,\n   1107,\n   7,\n   4,\n   293,\n   177,\n   4,\n   64,\n   3389,\n   42,\n   1451,\n   354,\n   11,\n   61,\n   652,\n   71,\n   1230,\n   17,\n   2,\n   5,\n   27,\n   980,\n   37,\n   13,\n   264,\n   16,\n   256,\n   34,\n   2,\n   2,\n   115,\n   557,\n   7,\n   41,\n   159,\n   21,\n   59,\n   47,\n   49,\n   4160,\n   7,\n   268,\n   1369,\n   5,\n   9,\n   6,\n   52,\n   2,\n   4,\n   2,\n   11,\n   14,\n   31,\n   9,\n   606,\n   445,\n   2,\n   2,\n   271,\n   103,\n   148,\n   37,\n   2,\n   8,\n   2114,\n   27,\n   1818,\n   5,\n   12,\n   144,\n   97,\n   18,\n   52,\n   1179,\n   253,\n   262,\n   348,\n   15,\n   12,\n   9,\n   526,\n   34,\n   308,\n   4124,\n   37,\n   47,\n   224,\n   318,\n   302,\n   18,\n   111,\n   7,\n   134,\n   432,\n   7,\n   108,\n   587,\n   260,\n   952,\n   23,\n   32,\n   289,\n   7,\n   4,\n   678,\n   1179,\n   2,\n   2195,\n   4903,\n   890,\n   5,\n   2553,\n   4971,\n   5,\n   141,\n   392,\n   2,\n   17,\n   2,\n   472,\n   4,\n   22,\n   9,\n   1038,\n   1892,\n   11,\n   836,\n   2,\n   5,\n   2349,\n   599,\n   50,\n   26,\n   31,\n   42,\n   107,\n   2791,\n   2207,\n   388,\n   21,\n   164,\n   290,\n   4,\n   781,\n   7,\n   149,\n   4,\n   22,\n   13,\n   586,\n   135,\n   11,\n   192,\n   1212,\n   39,\n   4,\n   752,\n   1046,\n   3201,\n   14,\n   436,\n   20,\n   9,\n   66,\n   179,\n   4801,\n   5,\n   2,\n   19,\n   105,\n   15,\n   426,\n   79,\n   2,\n   1605,\n   195,\n   18,\n   61,\n   4034,\n   5,\n   35,\n   2411,\n   583,\n   7,\n   101,\n   147,\n   602,\n   13,\n   161,\n   60,\n   169,\n   12,\n   253,\n   11,\n   6,\n   1322,\n   78,\n   20,\n   281,\n   63,\n   9,\n   1281,\n   18,\n   72,\n   237,\n   13,\n   119,\n   6,\n   176,\n   7,\n   184,\n   2,\n   108,\n   474,\n   135,\n   798]]}"
     },
     "metadata": {},
     "execution_count": 32
    }
   ],
   "source": [
    "example_input"
   ]
  },
  {
   "cell_type": "code",
   "execution_count": null,
   "metadata": {},
   "outputs": [],
   "source": []
  }
 ],
 "metadata": {
  "language_info": {
   "codemirror_mode": {
    "name": "ipython",
    "version": 3
   },
   "file_extension": ".py",
   "mimetype": "text/x-python",
   "name": "python",
   "nbconvert_exporter": "python",
   "pygments_lexer": "ipython3",
   "version": "3.7.6-final"
  },
  "orig_nbformat": 2,
  "kernelspec": {
   "name": "python37664bit4ba59778656c4289bd3f4b856567f4a4",
   "display_name": "Python 3.7.6 64-bit"
  }
 },
 "nbformat": 4,
 "nbformat_minor": 2
}